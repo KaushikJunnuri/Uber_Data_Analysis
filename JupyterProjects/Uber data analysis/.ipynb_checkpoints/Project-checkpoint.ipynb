{
 "cells": [
  {
   "cell_type": "code",
   "execution_count": 108,
   "metadata": {},
   "outputs": [],
   "source": [
    "from IPython.display import display, HTML\n",
    "import pandas as pd\n",
    "import sqlite3\n",
    "from sqlite3 import Error\n",
    "\n",
    "def create_connection(db_file, delete_db=False):\n",
    "    import os\n",
    "    if delete_db and os.path.exists(db_file):\n",
    "        os.remove(db_file)\n",
    "\n",
    "    conn = None\n",
    "    try:\n",
    "        conn = sqlite3.connect(db_file)\n",
    "        conn.execute(\"PRAGMA foreign_keys = 1\")\n",
    "    except Error as e:\n",
    "        print(e)\n",
    "\n",
    "    return conn\n",
    "\n",
    "\n",
    "def create_table(conn, create_table_sql):\n",
    "    try:\n",
    "        c = conn.cursor()\n",
    "        c.execute(create_table_sql)\n",
    "    except Error as e:\n",
    "        print(e)\n",
    "        \n",
    "def execute_sql_statement(sql_statement, conn):\n",
    "    cur = conn.cursor()\n",
    "    cur.execute(sql_statement)\n",
    "\n",
    "    rows = cur.fetchall()\n",
    "\n",
    "    return rows\n"
   ]
  },
  {
   "cell_type": "code",
   "execution_count": 111,
   "metadata": {},
   "outputs": [],
   "source": [
    "# Delete old database file\n",
    "\n",
    "normalized_database_filename = 'normalized2.db'\n",
    "conn = create_connection(normalized_database_filename, delete_db=True)\n"
   ]
  },
  {
   "cell_type": "code",
   "execution_count": 112,
   "metadata": {},
   "outputs": [],
   "source": [
    "def create_origin_table(data_filename, normalized_database_filename):\n",
    "    conn = create_connection(normalized_database_filename)\n",
    "    \n",
    "    create_table_origin = '''CREATE TABLE IF NOT EXISTS Origin ( \n",
    "                         [OriginID] Integer not null primary key,\n",
    "                         [Origin] Text not null);\n",
    "                         ''' \n",
    "    \n",
    "    row_count = 0\n",
    "    origins = []\n",
    "    with open(data_filename) as file:\n",
    "        \n",
    "        for line in file:\n",
    "            if row_count ==0:\n",
    "                columns = (line.strip().split(\",\"))\n",
    "                row_count+=1\n",
    "            else:\n",
    "                origins.append(line.strip().split(\",\")[1].strip())\n",
    "                row_count+=1\n",
    "        \n",
    "        origins_unique = sorted(set(origins))\n",
    "        origins_final = list(set(zip(range(1,len(origins_unique)+1),origins_unique)))\n",
    "        origins_final=sorted(origins_final)\n",
    "        \n",
    "    with conn:\n",
    "        create_table(conn, create_table_origin)\n",
    "        insert_Origin(conn,origins_final)\n",
    "        \n",
    "def insert_Origin(conn,values):\n",
    "        \n",
    "        sql_insert_origin = \"\"\"INSERT INTO Origin(OriginID,Origin)\n",
    "                                VALUES(?,?)\"\"\"\n",
    "        curr = conn.cursor()\n",
    "        curr.executemany(sql_insert_origin,values)\n",
    "        return curr.lastrowid"
   ]
  },
  {
   "cell_type": "code",
   "execution_count": 113,
   "metadata": {},
   "outputs": [],
   "source": [
    "data_filename = \"Sample_data.csv\"\n",
    "normalized_database_filename = 'normalized2.db'\n",
    "create_origin_table(data_filename, normalized_database_filename)"
   ]
  },
  {
   "cell_type": "code",
   "execution_count": 114,
   "metadata": {},
   "outputs": [],
   "source": [
    "def origin_to_originid_dictionary(normalized_database_filename):\n",
    "    \n",
    "    \n",
    "    # YOUR CODE HERE\n",
    "    origins = execute_sql_statement(\"SELECT OriginID,Origin FROM Origin\",conn)\n",
    "    origin_dict = dict()\n",
    "    for item in origins:\n",
    "        origin_dict[item[1]] = item[0]\n",
    "        \n",
    "    return origin_dict"
   ]
  },
  {
   "cell_type": "code",
   "execution_count": 97,
   "metadata": {},
   "outputs": [
    {
     "data": {
      "text/plain": [
       "[]"
      ]
     },
     "execution_count": 97,
     "metadata": {},
     "output_type": "execute_result"
    }
   ],
   "source": [
    "#execute_sql_statement('DROP TABLE TRIPS',conn)"
   ]
  },
  {
   "cell_type": "code",
   "execution_count": 115,
   "metadata": {},
   "outputs": [],
   "source": [
    "def create_destination_table(data_filename, normalized_database_filename):\n",
    "    conn = create_connection(normalized_database_filename)\n",
    "    \n",
    "    create_table_destinations = '''CREATE TABLE IF NOT EXISTS Destination ( \n",
    "                                 [DestinationID] Integer not null primary key,\n",
    "                                 [Destination] Text not null);\n",
    "                         ''' \n",
    "    \n",
    "    row_count = 0\n",
    "    destinations = []\n",
    "\n",
    "    with open(data_filename) as file:\n",
    "        \n",
    "        for line in file:\n",
    "            if row_count ==0:\n",
    "                columns = (line.strip().split(\",\"))\n",
    "                row_count+=1\n",
    "            else:\n",
    "                destinations.append(line.strip().split(\",\")[2].strip())\n",
    "                row_count+=1\n",
    "        \n",
    "        destinations_unique = sorted(set(destinations))\n",
    "        destinations_final = list(set(zip(range(1,len(destinations_unique)+1),destinations_unique)))\n",
    "        destinations_final=sorted(destinations_final)\n",
    "        print(destinations_final)\n",
    "    with conn:\n",
    "        create_table(conn, create_table_destinations)\n",
    "        insert_destinations(conn,destinations_final)\n",
    "        \n",
    "def insert_destinations(conn,values):\n",
    "        \n",
    "        sql_insert_destinations = \"\"\"INSERT INTO Destination(DestinationID,Destination)\n",
    "                                VALUES(?,?)\"\"\"\n",
    "        curr = conn.cursor()\n",
    "        curr.executemany(sql_insert_destinations,values)\n",
    "        return curr.lastrowid"
   ]
  },
  {
   "cell_type": "code",
   "execution_count": 116,
   "metadata": {},
   "outputs": [
    {
     "name": "stdout",
     "output_type": "stream",
     "text": [
      "[(1, '1'), (2, '10'), (3, '11'), (4, '12'), (5, '13'), (6, '14'), (7, '15'), (8, '16'), (9, '18'), (10, '2A'), (11, '2B'), (12, '2C'), (13, '3A'), (14, '3B'), (15, '3C'), (16, '4A'), (17, '4B'), (18, '4C'), (19, '5A'), (20, '5B'), (21, '5C'), (22, '6A'), (23, '6B'), (24, '7A'), (25, '7B'), (26, '7C'), (27, '8'), (28, '9'), (29, 'NULL')]\n"
     ]
    }
   ],
   "source": [
    "data_filename = \"Sample_data.csv\"\n",
    "normalized_database_filename = 'normalized2.db'\n",
    "create_destination_table(data_filename, normalized_database_filename)"
   ]
  },
  {
   "cell_type": "code",
   "execution_count": 117,
   "metadata": {},
   "outputs": [],
   "source": [
    "def destination_to_destinationid_dictionary(normalized_database_filename):\n",
    "    \n",
    "    \n",
    "    # YOUR CODE HERE\n",
    "    destination = execute_sql_statement(\"SELECT DestinationID,Destination FROM Destination\",conn)\n",
    "    destination_dict = dict()\n",
    "    for item in destination:\n",
    "        destination_dict[item[1]] = item[0]\n",
    "        \n",
    "    return destination_dict"
   ]
  },
  {
   "cell_type": "code",
   "execution_count": null,
   "metadata": {},
   "outputs": [],
   "source": []
  },
  {
   "cell_type": "code",
   "execution_count": 132,
   "metadata": {},
   "outputs": [],
   "source": [
    "def create_trips_table(data_filename, normalized_database_filename):\n",
    "    conn = create_connection(normalized_database_filename)\n",
    "    create_table_Trips_sql = \"\"\" CREATE TABLE IF NOT EXISTS TRIPS (\n",
    "                                [TripID] INTEGER NOT NULL PRIMARY KEY,\n",
    "                                [pickup_datetime] TEXT NOT NULL,\n",
    "                                [trip_distance] FLOAT NOT NULL,\n",
    "                                [trip_duration] TEXT NOT NULL,\n",
    "                                FOREIGN KEY(OriginID) REFERENCES Origin(OriginID),\n",
    "                                FOREIGN KEY(DestinationID) REFERENCES Destination(DestinationID));\"\"\"  \n",
    "    \n",
    "    trips = []\n",
    "    row_count = 0\n",
    "    destination_dict = destination_to_destinationid_dictionary(normalized_database_filename)\n",
    "    origin_dict = origin_to_originid_dictionary(normalized_database_filename)\n",
    "    \n",
    "    with open(data_filename) as file:\n",
    "        for line in file:\n",
    "            if row_count ==0:\n",
    "                columns = (line.strip().split(\",\"))\n",
    "                row_count+=1\n",
    "            else:\n",
    "                a = line.strip().split(',')\n",
    "                values = (a[3],a[4],a[5],origin_dict[a[1]],destination_dict[a[2]])\n",
    "                trips.append(values)\n",
    "                row_count+=1\n",
    "\n",
    "    with conn:\n",
    "        create_table(conn, create_table_Trips_sql)\n",
    "        insert_Trip(conn,trips)\n",
    "\n",
    "    \n",
    "def insert_Trip(conn, values):\n",
    "    sql = '''INSERT INTO TRIPS(pickup_datetime, trip_distance,trip_duration,OriginID,DestinationID)\n",
    "          VALUES(?,?,?,?,?) '''\n",
    "    cur = conn.cursor()\n",
    "    cur.executemany(sql, values)\n",
    "    return cur.lastrowid"
   ]
  },
  {
   "cell_type": "code",
   "execution_count": 133,
   "metadata": {},
   "outputs": [
    {
     "name": "stdout",
     "output_type": "stream",
     "text": [
      "unknown column \"OriginID\" in foreign key definition\n"
     ]
    },
    {
     "ename": "OperationalError",
     "evalue": "no such table: TRIPS",
     "output_type": "error",
     "traceback": [
      "\u001b[1;31m---------------------------------------------------------------------------\u001b[0m",
      "\u001b[1;31mOperationalError\u001b[0m                          Traceback (most recent call last)",
      "\u001b[1;32m<ipython-input-133-af42374232c0>\u001b[0m in \u001b[0;36m<module>\u001b[1;34m\u001b[0m\n\u001b[0;32m      1\u001b[0m \u001b[0mdata_filename\u001b[0m \u001b[1;33m=\u001b[0m \u001b[1;34m\"Sample_data.csv\"\u001b[0m\u001b[1;33m\u001b[0m\u001b[1;33m\u001b[0m\u001b[0m\n\u001b[0;32m      2\u001b[0m \u001b[0mnormalized_database_filename\u001b[0m \u001b[1;33m=\u001b[0m \u001b[1;34m'normalized2.db'\u001b[0m\u001b[1;33m\u001b[0m\u001b[1;33m\u001b[0m\u001b[0m\n\u001b[1;32m----> 3\u001b[1;33m \u001b[0mcreate_trips_table\u001b[0m\u001b[1;33m(\u001b[0m\u001b[0mdata_filename\u001b[0m\u001b[1;33m,\u001b[0m \u001b[0mnormalized_database_filename\u001b[0m\u001b[1;33m)\u001b[0m\u001b[1;33m\u001b[0m\u001b[1;33m\u001b[0m\u001b[0m\n\u001b[0m",
      "\u001b[1;32m<ipython-input-132-6cfd6d9d0899>\u001b[0m in \u001b[0;36mcreate_trips_table\u001b[1;34m(data_filename, normalized_database_filename)\u001b[0m\n\u001b[0;32m     27\u001b[0m     \u001b[1;32mwith\u001b[0m \u001b[0mconn\u001b[0m\u001b[1;33m:\u001b[0m\u001b[1;33m\u001b[0m\u001b[1;33m\u001b[0m\u001b[0m\n\u001b[0;32m     28\u001b[0m         \u001b[0mcreate_table\u001b[0m\u001b[1;33m(\u001b[0m\u001b[0mconn\u001b[0m\u001b[1;33m,\u001b[0m \u001b[0mcreate_table_Trips_sql\u001b[0m\u001b[1;33m)\u001b[0m\u001b[1;33m\u001b[0m\u001b[1;33m\u001b[0m\u001b[0m\n\u001b[1;32m---> 29\u001b[1;33m         \u001b[0minsert_Trip\u001b[0m\u001b[1;33m(\u001b[0m\u001b[0mconn\u001b[0m\u001b[1;33m,\u001b[0m\u001b[0mtrips\u001b[0m\u001b[1;33m)\u001b[0m\u001b[1;33m\u001b[0m\u001b[1;33m\u001b[0m\u001b[0m\n\u001b[0m\u001b[0;32m     30\u001b[0m \u001b[1;33m\u001b[0m\u001b[0m\n\u001b[0;32m     31\u001b[0m \u001b[1;33m\u001b[0m\u001b[0m\n",
      "\u001b[1;32m<ipython-input-132-6cfd6d9d0899>\u001b[0m in \u001b[0;36minsert_Trip\u001b[1;34m(conn, values)\u001b[0m\n\u001b[0;32m     34\u001b[0m           VALUES(?,?,?,?,?) '''\n\u001b[0;32m     35\u001b[0m     \u001b[0mcur\u001b[0m \u001b[1;33m=\u001b[0m \u001b[0mconn\u001b[0m\u001b[1;33m.\u001b[0m\u001b[0mcursor\u001b[0m\u001b[1;33m(\u001b[0m\u001b[1;33m)\u001b[0m\u001b[1;33m\u001b[0m\u001b[1;33m\u001b[0m\u001b[0m\n\u001b[1;32m---> 36\u001b[1;33m     \u001b[0mcur\u001b[0m\u001b[1;33m.\u001b[0m\u001b[0mexecutemany\u001b[0m\u001b[1;33m(\u001b[0m\u001b[0msql\u001b[0m\u001b[1;33m,\u001b[0m \u001b[0mvalues\u001b[0m\u001b[1;33m)\u001b[0m\u001b[1;33m\u001b[0m\u001b[1;33m\u001b[0m\u001b[0m\n\u001b[0m\u001b[0;32m     37\u001b[0m     \u001b[1;32mreturn\u001b[0m \u001b[0mcur\u001b[0m\u001b[1;33m.\u001b[0m\u001b[0mlastrowid\u001b[0m\u001b[1;33m\u001b[0m\u001b[1;33m\u001b[0m\u001b[0m\n",
      "\u001b[1;31mOperationalError\u001b[0m: no such table: TRIPS"
     ]
    }
   ],
   "source": [
    "data_filename = \"Sample_data.csv\"\n",
    "normalized_database_filename = 'normalized2.db'\n",
    "create_trips_table(data_filename, normalized_database_filename)"
   ]
  },
  {
   "cell_type": "code",
   "execution_count": 123,
   "metadata": {},
   "outputs": [
    {
     "name": "stdout",
     "output_type": "stream",
     "text": [
      "unknown column \"OriginID\" in foreign key definition\n"
     ]
    }
   ],
   "source": [
    "data_filename = \"Sample_data.csv\"\n",
    "normalized_database_filename = 'normalized2.db'\n",
    "conn = create_connection(normalized_database_filename)\n",
    "create_table_Trips_sql = \"\"\" CREATE TABLE IF NOT EXISTS TRIPS (\n",
    "                                [TripID] INTEGER NOT NULL PRIMARY KEY,\n",
    "                                [pickup_datetime] TEXT NOT NULL,\n",
    "                                [trip_distance] FLOAT NOT NULL,\n",
    "                                [trip_duration] TEXT NOT NULL,\n",
    "                                FOREIGN KEY(OriginID) REFERENCES Origin(OriginID),\n",
    "                                FOREIGN KEY(DestinationID) REFERENCES Destination(DestinationID));\"\"\"  \n",
    "\n",
    "    \n",
    "with conn:\n",
    "        create_table(conn, create_table_Trips_sql)"
   ]
  },
  {
   "cell_type": "code",
   "execution_count": null,
   "metadata": {},
   "outputs": [],
   "source": []
  },
  {
   "cell_type": "code",
   "execution_count": null,
   "metadata": {},
   "outputs": [],
   "source": []
  },
  {
   "cell_type": "code",
   "execution_count": null,
   "metadata": {},
   "outputs": [],
   "source": []
  },
  {
   "cell_type": "code",
   "execution_count": null,
   "metadata": {},
   "outputs": [],
   "source": []
  },
  {
   "cell_type": "code",
   "execution_count": null,
   "metadata": {},
   "outputs": [],
   "source": []
  }
 ],
 "metadata": {
  "kernelspec": {
   "display_name": "Python 3",
   "language": "python",
   "name": "python3"
  },
  "language_info": {
   "codemirror_mode": {
    "name": "ipython",
    "version": 3
   },
   "file_extension": ".py",
   "mimetype": "text/x-python",
   "name": "python",
   "nbconvert_exporter": "python",
   "pygments_lexer": "ipython3",
   "version": "3.6.12"
  }
 },
 "nbformat": 4,
 "nbformat_minor": 4
}
